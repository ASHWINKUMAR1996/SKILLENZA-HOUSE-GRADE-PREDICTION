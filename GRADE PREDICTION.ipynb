{
 "cells": [
  {
   "cell_type": "markdown",
   "metadata": {},
   "source": [
    "# GRADE PREDICTION OF HOUSES\n",
    "\n",
    "The objective of the project is to predict the grade of a house. We are provided with a dataset 7000 houses and their various features along with the Grades assigned to them. Using Machine Learning algorithms, we try to predict the Grades of houses that are new to the model."
   ]
  },
  {
   "cell_type": "code",
   "execution_count": 412,
   "metadata": {},
   "outputs": [],
   "source": [
    "# load libraries\n",
    "import pandas as pd \n",
    "import numpy as np\n",
    "import seaborn as sns\n",
    "import matplotlib.pyplot as plt\n",
    "import matplotlib.gridspec as gridspec\n",
    "%matplotlib inline\n",
    "import warnings\n",
    "warnings.filterwarnings('ignore')\n",
    "import re\n",
    "import random\n",
    "\n",
    "pd.set_option('display.max_columns',None)"
   ]
  },
  {
   "cell_type": "code",
   "execution_count": 413,
   "metadata": {},
   "outputs": [],
   "source": [
    "#Loading data\n",
    "train=pd.read_csv(\"C:/users/ashwin/Desktop/HACKATHON/TRAINING.csv\")\n",
    "test=pd.read_csv(\"C:/users/ashwin/Desktop/HACKATHON/TEST.csv\")"
   ]
  },
  {
   "cell_type": "code",
   "execution_count": 414,
   "metadata": {},
   "outputs": [
    {
     "data": {
      "text/plain": [
       "((7000, 14), (3299, 13))"
      ]
     },
     "execution_count": 414,
     "metadata": {},
     "output_type": "execute_result"
    }
   ],
   "source": [
    "#Check the dimensions of the dataset\n",
    "train.shape,test.shape"
   ]
  },
  {
   "cell_type": "code",
   "execution_count": 415,
   "metadata": {},
   "outputs": [],
   "source": [
    "#Combining the data to simplify manipulations\n",
    "data=pd.concat([train,test],axis=0).reset_index(drop=True)"
   ]
  },
  {
   "cell_type": "code",
   "execution_count": 416,
   "metadata": {},
   "outputs": [],
   "source": [
    "#create a copy of the original data\n",
    "rawdata=data.copy()"
   ]
  },
  {
   "cell_type": "code",
   "execution_count": 417,
   "metadata": {},
   "outputs": [
    {
     "data": {
      "text/html": [
       "<div>\n",
       "<style scoped>\n",
       "    .dataframe tbody tr th:only-of-type {\n",
       "        vertical-align: middle;\n",
       "    }\n",
       "\n",
       "    .dataframe tbody tr th {\n",
       "        vertical-align: top;\n",
       "    }\n",
       "\n",
       "    .dataframe thead th {\n",
       "        text-align: right;\n",
       "    }\n",
       "</style>\n",
       "<table border=\"1\" class=\"dataframe\">\n",
       "  <thead>\n",
       "    <tr style=\"text-align: right;\">\n",
       "      <th></th>\n",
       "      <th>ANB</th>\n",
       "      <th>API</th>\n",
       "      <th>Area(total)</th>\n",
       "      <th>EXPECTED</th>\n",
       "      <th>Grade</th>\n",
       "      <th>Lawn(Area)</th>\n",
       "      <th>Nbedrooms</th>\n",
       "      <th>Nbwashrooms</th>\n",
       "      <th>Nfloors</th>\n",
       "      <th>Roof(Area)</th>\n",
       "      <th>Troom</th>\n",
       "      <th>Twashrooms</th>\n",
       "      <th>id</th>\n",
       "      <th>roof</th>\n",
       "    </tr>\n",
       "  </thead>\n",
       "  <tbody>\n",
       "    <tr>\n",
       "      <th>0</th>\n",
       "      <td>4</td>\n",
       "      <td>63.0</td>\n",
       "      <td>305</td>\n",
       "      <td>3826$</td>\n",
       "      <td>D</td>\n",
       "      <td>76.0</td>\n",
       "      <td>2.0</td>\n",
       "      <td>1.0</td>\n",
       "      <td>2</td>\n",
       "      <td>0.0</td>\n",
       "      <td>8.0</td>\n",
       "      <td>3.0</td>\n",
       "      <td>1</td>\n",
       "      <td>NO</td>\n",
       "    </tr>\n",
       "    <tr>\n",
       "      <th>1</th>\n",
       "      <td>1</td>\n",
       "      <td>97.0</td>\n",
       "      <td>344</td>\n",
       "      <td>4458$</td>\n",
       "      <td>B</td>\n",
       "      <td>83.0</td>\n",
       "      <td>7.0</td>\n",
       "      <td>7.0</td>\n",
       "      <td>7</td>\n",
       "      <td>0.0</td>\n",
       "      <td>6.0</td>\n",
       "      <td>8.0</td>\n",
       "      <td>2</td>\n",
       "      <td>no</td>\n",
       "    </tr>\n",
       "    <tr>\n",
       "      <th>2</th>\n",
       "      <td>4</td>\n",
       "      <td>88.0</td>\n",
       "      <td>294</td>\n",
       "      <td>4199$</td>\n",
       "      <td>C</td>\n",
       "      <td>78.0</td>\n",
       "      <td>4.0</td>\n",
       "      <td>3.0</td>\n",
       "      <td>1</td>\n",
       "      <td>97.0</td>\n",
       "      <td>8.0</td>\n",
       "      <td>4.0</td>\n",
       "      <td>3</td>\n",
       "      <td>yes</td>\n",
       "    </tr>\n",
       "    <tr>\n",
       "      <th>3</th>\n",
       "      <td>1</td>\n",
       "      <td>86.0</td>\n",
       "      <td>328</td>\n",
       "      <td>3462$</td>\n",
       "      <td>D</td>\n",
       "      <td>91.0</td>\n",
       "      <td>4.0</td>\n",
       "      <td>2.0</td>\n",
       "      <td>5</td>\n",
       "      <td>0.0</td>\n",
       "      <td>5.0</td>\n",
       "      <td>4.0</td>\n",
       "      <td>4</td>\n",
       "      <td>NO</td>\n",
       "    </tr>\n",
       "    <tr>\n",
       "      <th>4</th>\n",
       "      <td>3</td>\n",
       "      <td>93.0</td>\n",
       "      <td>295</td>\n",
       "      <td>4543$</td>\n",
       "      <td>C</td>\n",
       "      <td>97.0</td>\n",
       "      <td>5.0</td>\n",
       "      <td>3.0</td>\n",
       "      <td>4</td>\n",
       "      <td>NaN</td>\n",
       "      <td>9.0</td>\n",
       "      <td>5.0</td>\n",
       "      <td>5</td>\n",
       "      <td>NaN</td>\n",
       "    </tr>\n",
       "  </tbody>\n",
       "</table>\n",
       "</div>"
      ],
      "text/plain": [
       "   ANB   API  Area(total) EXPECTED Grade  Lawn(Area)  Nbedrooms  Nbwashrooms  \\\n",
       "0    4  63.0          305    3826$     D        76.0        2.0          1.0   \n",
       "1    1  97.0          344    4458$     B        83.0        7.0          7.0   \n",
       "2    4  88.0          294    4199$     C        78.0        4.0          3.0   \n",
       "3    1  86.0          328    3462$     D        91.0        4.0          2.0   \n",
       "4    3  93.0          295    4543$     C        97.0        5.0          3.0   \n",
       "\n",
       "   Nfloors  Roof(Area)  Troom  Twashrooms  id roof  \n",
       "0        2         0.0    8.0         3.0   1   NO  \n",
       "1        7         0.0    6.0         8.0   2   no  \n",
       "2        1        97.0    8.0         4.0   3  yes  \n",
       "3        5         0.0    5.0         4.0   4   NO  \n",
       "4        4         NaN    9.0         5.0   5  NaN  "
      ]
     },
     "execution_count": 417,
     "metadata": {},
     "output_type": "execute_result"
    }
   ],
   "source": [
    "data.head()"
   ]
  },
  {
   "cell_type": "markdown",
   "metadata": {},
   "source": [
    "####  UNDERSTANDING THE DATA"
   ]
  },
  {
   "cell_type": "code",
   "execution_count": 418,
   "metadata": {},
   "outputs": [
    {
     "name": "stdout",
     "output_type": "stream",
     "text": [
      "<class 'pandas.core.frame.DataFrame'>\n",
      "RangeIndex: 10299 entries, 0 to 10298\n",
      "Data columns (total 14 columns):\n",
      "ANB            10299 non-null int64\n",
      "API            10297 non-null float64\n",
      "Area(total)    10299 non-null int64\n",
      "EXPECTED       10299 non-null object\n",
      "Grade          7000 non-null object\n",
      "Lawn(Area)     10296 non-null float64\n",
      "Nbedrooms      10295 non-null float64\n",
      "Nbwashrooms    10296 non-null float64\n",
      "Nfloors        10299 non-null int64\n",
      "Roof(Area)     8293 non-null float64\n",
      "Troom          10296 non-null float64\n",
      "Twashrooms     10298 non-null float64\n",
      "id             10299 non-null int64\n",
      "roof           8293 non-null object\n",
      "dtypes: float64(7), int64(4), object(3)\n",
      "memory usage: 1.1+ MB\n"
     ]
    }
   ],
   "source": [
    "data.info()"
   ]
  },
  {
   "cell_type": "code",
   "execution_count": 419,
   "metadata": {},
   "outputs": [
    {
     "data": {
      "text/html": [
       "<div>\n",
       "<style scoped>\n",
       "    .dataframe tbody tr th:only-of-type {\n",
       "        vertical-align: middle;\n",
       "    }\n",
       "\n",
       "    .dataframe tbody tr th {\n",
       "        vertical-align: top;\n",
       "    }\n",
       "\n",
       "    .dataframe thead th {\n",
       "        text-align: right;\n",
       "    }\n",
       "</style>\n",
       "<table border=\"1\" class=\"dataframe\">\n",
       "  <thead>\n",
       "    <tr style=\"text-align: right;\">\n",
       "      <th></th>\n",
       "      <th>EXPECTED</th>\n",
       "      <th>Grade</th>\n",
       "      <th>roof</th>\n",
       "    </tr>\n",
       "  </thead>\n",
       "  <tbody>\n",
       "    <tr>\n",
       "      <th>count</th>\n",
       "      <td>10299</td>\n",
       "      <td>7000</td>\n",
       "      <td>8293</td>\n",
       "    </tr>\n",
       "    <tr>\n",
       "      <th>unique</th>\n",
       "      <td>2198</td>\n",
       "      <td>5</td>\n",
       "      <td>4</td>\n",
       "    </tr>\n",
       "    <tr>\n",
       "      <th>top</th>\n",
       "      <td>3982$</td>\n",
       "      <td>C</td>\n",
       "      <td>no</td>\n",
       "    </tr>\n",
       "    <tr>\n",
       "      <th>freq</th>\n",
       "      <td>17</td>\n",
       "      <td>2928</td>\n",
       "      <td>2100</td>\n",
       "    </tr>\n",
       "  </tbody>\n",
       "</table>\n",
       "</div>"
      ],
      "text/plain": [
       "       EXPECTED Grade  roof\n",
       "count     10299  7000  8293\n",
       "unique     2198     5     4\n",
       "top       3982$     C    no\n",
       "freq         17  2928  2100"
      ]
     },
     "execution_count": 419,
     "metadata": {},
     "output_type": "execute_result"
    }
   ],
   "source": [
    "data.describe(include=['object'])"
   ]
  },
  {
   "cell_type": "markdown",
   "metadata": {},
   "source": [
    "Expected price is under the object category. Expected price is numerical and thus we should treat it to make it numerical.\n",
    "The dollar sign has to be removed."
   ]
  },
  {
   "cell_type": "code",
   "execution_count": 420,
   "metadata": {},
   "outputs": [
    {
     "data": {
      "text/html": [
       "<div>\n",
       "<style scoped>\n",
       "    .dataframe tbody tr th:only-of-type {\n",
       "        vertical-align: middle;\n",
       "    }\n",
       "\n",
       "    .dataframe tbody tr th {\n",
       "        vertical-align: top;\n",
       "    }\n",
       "\n",
       "    .dataframe thead th {\n",
       "        text-align: right;\n",
       "    }\n",
       "</style>\n",
       "<table border=\"1\" class=\"dataframe\">\n",
       "  <thead>\n",
       "    <tr style=\"text-align: right;\">\n",
       "      <th></th>\n",
       "      <th>ANB</th>\n",
       "      <th>API</th>\n",
       "      <th>Area(total)</th>\n",
       "      <th>Lawn(Area)</th>\n",
       "      <th>Nbedrooms</th>\n",
       "      <th>Nbwashrooms</th>\n",
       "      <th>Nfloors</th>\n",
       "      <th>Roof(Area)</th>\n",
       "      <th>Troom</th>\n",
       "      <th>Twashrooms</th>\n",
       "      <th>id</th>\n",
       "    </tr>\n",
       "  </thead>\n",
       "  <tbody>\n",
       "    <tr>\n",
       "      <th>count</th>\n",
       "      <td>10299.000000</td>\n",
       "      <td>10297.000000</td>\n",
       "      <td>10299.000000</td>\n",
       "      <td>10296.000000</td>\n",
       "      <td>10295.000000</td>\n",
       "      <td>10296.000000</td>\n",
       "      <td>10299.000000</td>\n",
       "      <td>8293.000000</td>\n",
       "      <td>10296.000000</td>\n",
       "      <td>10298.000000</td>\n",
       "      <td>10299.000000</td>\n",
       "    </tr>\n",
       "    <tr>\n",
       "      <th>mean</th>\n",
       "      <td>3.494320</td>\n",
       "      <td>79.029038</td>\n",
       "      <td>325.002913</td>\n",
       "      <td>90.013112</td>\n",
       "      <td>4.995435</td>\n",
       "      <td>4.005245</td>\n",
       "      <td>4.508690</td>\n",
       "      <td>47.223321</td>\n",
       "      <td>7.002525</td>\n",
       "      <td>5.501457</td>\n",
       "      <td>2907.743470</td>\n",
       "    </tr>\n",
       "    <tr>\n",
       "      <th>std</th>\n",
       "      <td>1.699177</td>\n",
       "      <td>11.839374</td>\n",
       "      <td>20.481697</td>\n",
       "      <td>11.824232</td>\n",
       "      <td>1.644379</td>\n",
       "      <td>1.581207</td>\n",
       "      <td>1.815055</td>\n",
       "      <td>48.847327</td>\n",
       "      <td>1.419969</td>\n",
       "      <td>1.495858</td>\n",
       "      <td>1952.376099</td>\n",
       "    </tr>\n",
       "    <tr>\n",
       "      <th>min</th>\n",
       "      <td>1.000000</td>\n",
       "      <td>59.000000</td>\n",
       "      <td>290.000000</td>\n",
       "      <td>70.000000</td>\n",
       "      <td>2.000000</td>\n",
       "      <td>1.000000</td>\n",
       "      <td>1.000000</td>\n",
       "      <td>0.000000</td>\n",
       "      <td>5.000000</td>\n",
       "      <td>3.000000</td>\n",
       "      <td>1.000000</td>\n",
       "    </tr>\n",
       "    <tr>\n",
       "      <th>25%</th>\n",
       "      <td>2.000000</td>\n",
       "      <td>69.000000</td>\n",
       "      <td>307.000000</td>\n",
       "      <td>80.000000</td>\n",
       "      <td>4.000000</td>\n",
       "      <td>3.000000</td>\n",
       "      <td>3.000000</td>\n",
       "      <td>0.000000</td>\n",
       "      <td>6.000000</td>\n",
       "      <td>4.000000</td>\n",
       "      <td>1288.000000</td>\n",
       "    </tr>\n",
       "    <tr>\n",
       "      <th>50%</th>\n",
       "      <td>3.000000</td>\n",
       "      <td>79.000000</td>\n",
       "      <td>325.000000</td>\n",
       "      <td>90.000000</td>\n",
       "      <td>5.000000</td>\n",
       "      <td>4.000000</td>\n",
       "      <td>5.000000</td>\n",
       "      <td>0.000000</td>\n",
       "      <td>7.000000</td>\n",
       "      <td>6.000000</td>\n",
       "      <td>2575.000000</td>\n",
       "    </tr>\n",
       "    <tr>\n",
       "      <th>75%</th>\n",
       "      <td>5.000000</td>\n",
       "      <td>89.000000</td>\n",
       "      <td>342.000000</td>\n",
       "      <td>100.000000</td>\n",
       "      <td>6.000000</td>\n",
       "      <td>5.000000</td>\n",
       "      <td>6.000000</td>\n",
       "      <td>95.000000</td>\n",
       "      <td>8.000000</td>\n",
       "      <td>7.000000</td>\n",
       "      <td>4425.500000</td>\n",
       "    </tr>\n",
       "    <tr>\n",
       "      <th>max</th>\n",
       "      <td>6.000000</td>\n",
       "      <td>99.000000</td>\n",
       "      <td>360.000000</td>\n",
       "      <td>110.000000</td>\n",
       "      <td>8.000000</td>\n",
       "      <td>7.000000</td>\n",
       "      <td>8.000000</td>\n",
       "      <td>120.000000</td>\n",
       "      <td>9.000000</td>\n",
       "      <td>8.000000</td>\n",
       "      <td>7000.000000</td>\n",
       "    </tr>\n",
       "  </tbody>\n",
       "</table>\n",
       "</div>"
      ],
      "text/plain": [
       "                ANB           API   Area(total)    Lawn(Area)     Nbedrooms  \\\n",
       "count  10299.000000  10297.000000  10299.000000  10296.000000  10295.000000   \n",
       "mean       3.494320     79.029038    325.002913     90.013112      4.995435   \n",
       "std        1.699177     11.839374     20.481697     11.824232      1.644379   \n",
       "min        1.000000     59.000000    290.000000     70.000000      2.000000   \n",
       "25%        2.000000     69.000000    307.000000     80.000000      4.000000   \n",
       "50%        3.000000     79.000000    325.000000     90.000000      5.000000   \n",
       "75%        5.000000     89.000000    342.000000    100.000000      6.000000   \n",
       "max        6.000000     99.000000    360.000000    110.000000      8.000000   \n",
       "\n",
       "        Nbwashrooms       Nfloors   Roof(Area)         Troom    Twashrooms  \\\n",
       "count  10296.000000  10299.000000  8293.000000  10296.000000  10298.000000   \n",
       "mean       4.005245      4.508690    47.223321      7.002525      5.501457   \n",
       "std        1.581207      1.815055    48.847327      1.419969      1.495858   \n",
       "min        1.000000      1.000000     0.000000      5.000000      3.000000   \n",
       "25%        3.000000      3.000000     0.000000      6.000000      4.000000   \n",
       "50%        4.000000      5.000000     0.000000      7.000000      6.000000   \n",
       "75%        5.000000      6.000000    95.000000      8.000000      7.000000   \n",
       "max        7.000000      8.000000   120.000000      9.000000      8.000000   \n",
       "\n",
       "                 id  \n",
       "count  10299.000000  \n",
       "mean    2907.743470  \n",
       "std     1952.376099  \n",
       "min        1.000000  \n",
       "25%     1288.000000  \n",
       "50%     2575.000000  \n",
       "75%     4425.500000  \n",
       "max     7000.000000  "
      ]
     },
     "execution_count": 420,
     "metadata": {},
     "output_type": "execute_result"
    }
   ],
   "source": [
    "data.describe(exclude=['object'])"
   ]
  },
  {
   "cell_type": "code",
   "execution_count": 421,
   "metadata": {},
   "outputs": [
    {
     "data": {
      "text/plain": [
       "<matplotlib.axes._subplots.AxesSubplot at 0x190798bd198>"
      ]
     },
     "execution_count": 421,
     "metadata": {},
     "output_type": "execute_result"
    },
    {
     "data": {
      "image/png": "[encoded data removed]",
      "text/plain": [
       "<Figure size 864x288 with 1 Axes>"
      ]
     },
     "metadata": {
      "needs_background": "light"
     },
     "output_type": "display_data"
    }
   ],
   "source": [
    "# Visualizing the distribtution of the target variable\n",
    "plt.figure(1,figsize=(12,4))\n",
    "sns.barplot(x=data['Grade'].value_counts(normalize=True).index,y=data['Grade'].value_counts(normalize=True))"
   ]
  },
  {
   "cell_type": "code",
   "execution_count": 422,
   "metadata": {},
   "outputs": [
    {
     "data": {
      "text/plain": [
       "<matplotlib.axes._subplots.AxesSubplot at 0x19007022cf8>"
      ]
     },
     "execution_count": 422,
     "metadata": {},
     "output_type": "execute_result"
    },
    {
     "data": {
      "image/png": "[encoded data removed]",
      "text/plain": [
       "<Figure size 864x360 with 1 Axes>"
      ]
     },
     "metadata": {
      "needs_background": "light"
     },
     "output_type": "display_data"
    }
   ],
   "source": [
    "# Visualizing the missing values in each column\n",
    "plt.figure(figsize=(12,5))\n",
    "sns.heatmap(data.isnull(),cbar=False,yticklabels=False)"
   ]
  },
  {
   "cell_type": "code",
   "execution_count": 423,
   "metadata": {},
   "outputs": [
    {
     "data": {
      "text/plain": [
       "Grade          3299\n",
       "roof           2006\n",
       "Roof(Area)     2006\n",
       "Nbedrooms         4\n",
       "Troom             3\n",
       "Nbwashrooms       3\n",
       "Lawn(Area)        3\n",
       "API               2\n",
       "Twashrooms        1\n",
       "id                0\n",
       "Nfloors           0\n",
       "EXPECTED          0\n",
       "Area(total)       0\n",
       "ANB               0\n",
       "dtype: int64"
      ]
     },
     "execution_count": 423,
     "metadata": {},
     "output_type": "execute_result"
    }
   ],
   "source": [
    "# Missing value count in each variable\n",
    "data.isnull().sum().sort_values(ascending=False)"
   ]
  },
  {
   "cell_type": "code",
   "execution_count": 424,
   "metadata": {},
   "outputs": [],
   "source": [
    "# Converting the Expected Price column into a numerical variable\n",
    "data['EXPECTED']=data['EXPECTED'].apply(lambda x: str.replace(x,x[4],''))\n",
    "data['EXPECTED']=data['EXPECTED'].astype(int)"
   ]
  },
  {
   "cell_type": "markdown",
   "metadata": {},
   "source": [
    "## VARIABLES ANALYSIS"
   ]
  },
  {
   "cell_type": "markdown",
   "metadata": {},
   "source": [
    "### CATEGORICAL VARIABLES"
   ]
  },
  {
   "cell_type": "code",
   "execution_count": 425,
   "metadata": {},
   "outputs": [
    {
     "data": {
      "text/plain": [
       "Text(0.5, 1.0, 'Total no. of rooms')"
      ]
     },
     "execution_count": 425,
     "metadata": {},
     "output_type": "execute_result"
    },
    {
     "data": {
      "image/png": "[encoded data removed]",
      "text/plain": [
       "<Figure size 1080x864 with 4 Axes>"
      ]
     },
     "metadata": {
      "needs_background": "light"
     },
     "output_type": "display_data"
    }
   ],
   "source": [
    "plt.figure(4,figsize=(15,12))\n",
    "\n",
    "plt.subplot(221)\n",
    "sns.barplot(x=data['Nbedrooms'].value_counts(normalize=False).index,y=data['Nbedrooms'].value_counts(normalize=False)).set_title('No. of bedrooms')\n",
    "\n",
    "plt.subplot(222)\n",
    "sns.barplot(x=data['Nbwashrooms'].value_counts(normalize=False).index,y=data['Nbwashrooms'].value_counts(normalize=False)).set_title('No. of bedrooms with attached washrooms')\n",
    "\n",
    "plt.subplot(223)\n",
    "sns.barplot(x=data['Twashrooms'].value_counts(normalize=False).index,y=data['Twashrooms'].value_counts(normalize=False)).set_title('Total no. of washrooms')\n",
    "\n",
    "plt.subplot(224)\n",
    "sns.barplot(x=data['Troom'].value_counts(normalize=False).index,y=data['Troom'].value_counts(normalize=False)).set_title('Total no. of rooms')"
   ]
  },
  {
   "cell_type": "code",
   "execution_count": 426,
   "metadata": {
    "scrolled": true
   },
   "outputs": [
    {
     "data": {
      "text/plain": [
       "Text(0.5, 1.0, 'Roof')"
      ]
     },
     "execution_count": 426,
     "metadata": {},
     "output_type": "execute_result"
    },
    {
     "data": {
      "image/png": "[encoded data removed]",
      "text/plain": [
       "<Figure size 1152x432 with 3 Axes>"
      ]
     },
     "metadata": {
      "needs_background": "light"
     },
     "output_type": "display_data"
    }
   ],
   "source": [
    "plt.figure(5,figsize=(16,6))\n",
    "\n",
    "plt.subplot(131)\n",
    "sns.barplot(x=data['Nfloors'].value_counts(normalize=False).index,y=data['Nfloors'].value_counts(normalize=False)).set_title('No. of floors')\n",
    "\n",
    "plt.subplot(132)\n",
    "sns.barplot(x=data['ANB'].value_counts(normalize=False).index,y=data['ANB'].value_counts(normalize=False)).set_title('Amenities')\n",
    "\n",
    "plt.subplot(133)\n",
    "sns.barplot(x=data['roof'].value_counts(normalize=False).index,y=data['roof'].value_counts(normalize=False)).set_title('Roof')"
   ]
  },
  {
   "cell_type": "code",
   "execution_count": 427,
   "metadata": {},
   "outputs": [],
   "source": [
    "# Standardizing the levels in the variable\n",
    "data['roof'][data['roof']=='no']='NO'\n",
    "data['roof'][data['roof']=='yes']='YES'"
   ]
  },
  {
   "cell_type": "code",
   "execution_count": 428,
   "metadata": {
    "scrolled": true
   },
   "outputs": [
    {
     "data": {
      "text/plain": [
       "Text(0.5, 1.0, 'Roof')"
      ]
     },
     "execution_count": 428,
     "metadata": {},
     "output_type": "execute_result"
    },
    {
     "data": {
      "image/png": "[encoded data removed]",
      "text/plain": [
       "<Figure size 1152x432 with 3 Axes>"
      ]
     },
     "metadata": {
      "needs_background": "light"
     },
     "output_type": "display_data"
    }
   ],
   "source": [
    "plt.figure(5,figsize=(16,6))\n",
    "\n",
    "plt.subplot(131)\n",
    "sns.barplot(x=data['Nfloors'].value_counts(normalize=False).index,y=data['Nfloors'].value_counts(normalize=False)).set_title('No. of floors')\n",
    "\n",
    "plt.subplot(132)\n",
    "sns.barplot(x=data['ANB'].value_counts(normalize=False).index,y=data['ANB'].value_counts(normalize=False)).set_title('Amenities')\n",
    "\n",
    "plt.subplot(133)\n",
    "sns.barplot(x=data['roof'].value_counts(normalize=False).index,y=data['roof'].value_counts(normalize=False)).set_title('Roof')"
   ]
  },
  {
   "cell_type": "markdown",
   "metadata": {},
   "source": [
    "### NUMERICAL VARIABLES"
   ]
  },
  {
   "cell_type": "code",
   "execution_count": 429,
   "metadata": {
    "scrolled": true
   },
   "outputs": [
    {
     "data": {
      "text/plain": [
       "<matplotlib.axes._subplots.AxesSubplot at 0x19006493c50>"
      ]
     },
     "execution_count": 429,
     "metadata": {},
     "output_type": "execute_result"
    },
    {
     "data": {
      "image/png": "[encoded data removed]",
      "text/plain": [
       "<Figure size 864x432 with 2 Axes>"
      ]
     },
     "metadata": {
      "needs_background": "light"
     },
     "output_type": "display_data"
    }
   ],
   "source": [
    "plt.figure(6,figsize=(12,6))\n",
    "\n",
    "plt.subplot(121)\n",
    "sns.distplot(data['EXPECTED'])\n",
    "\n",
    "plt.subplot(122)\n",
    "sns.boxplot(data['EXPECTED'])"
   ]
  },
  {
   "cell_type": "code",
   "execution_count": 430,
   "metadata": {},
   "outputs": [
    {
     "data": {
      "text/plain": [
       "<matplotlib.axes._subplots.AxesSubplot at 0x19009050048>"
      ]
     },
     "execution_count": 430,
     "metadata": {},
     "output_type": "execute_result"
    },
    {
     "data": {
      "image/png": "[encoded data removed]",
      "text/plain": [
       "<Figure size 1080x864 with 4 Axes>"
      ]
     },
     "metadata": {
      "needs_background": "light"
     },
     "output_type": "display_data"
    }
   ],
   "source": [
    "plt.figure(6,figsize=(15,12))\n",
    "\n",
    "plt.subplot(221)\n",
    "sns.distplot(data['API'].dropna())\n",
    "\n",
    "plt.subplot(222)\n",
    "sns.boxplot(data['API'])\n",
    "\n",
    "plt.subplot(223)\n",
    "sns.distplot(data['Area(total)'].dropna())\n",
    "\n",
    "plt.subplot(224)\n",
    "sns.boxplot(data['Area(total)'])"
   ]
  },
  {
   "cell_type": "code",
   "execution_count": 431,
   "metadata": {},
   "outputs": [
    {
     "data": {
      "text/plain": [
       "<matplotlib.axes._subplots.AxesSubplot at 0x19009585fd0>"
      ]
     },
     "execution_count": 431,
     "metadata": {},
     "output_type": "execute_result"
    },
    {
     "data": {
      "image/png": "[encoded data removed]",
      "text/plain": [
       "<Figure size 1080x864 with 4 Axes>"
      ]
     },
     "metadata": {
      "needs_background": "light"
     },
     "output_type": "display_data"
    }
   ],
   "source": [
    "plt.figure(7,figsize=(15,12))\n",
    "\n",
    "plt.subplot(221)\n",
    "sns.distplot(data['Lawn(Area)'].dropna())\n",
    "\n",
    "plt.subplot(222)\n",
    "sns.boxplot(data['Lawn(Area)'])\n",
    "\n",
    "plt.subplot(223)\n",
    "sns.distplot(data['Roof(Area)'][data['Roof(Area)']>0].dropna())\n",
    "\n",
    "plt.subplot(224)\n",
    "sns.boxplot(data['Roof(Area)'])"
   ]
  },
  {
   "cell_type": "markdown",
   "metadata": {
    "scrolled": false
   },
   "source": [
    "## MISSING VALUE TREATMENT"
   ]
  },
  {
   "cell_type": "code",
   "execution_count": 432,
   "metadata": {},
   "outputs": [],
   "source": [
    "# Fill missing value with the mode value of the variable\n",
    "data['Twashrooms']=data['Twashrooms'].fillna(data['Twashrooms'].mode()[0])"
   ]
  },
  {
   "cell_type": "code",
   "execution_count": 433,
   "metadata": {},
   "outputs": [],
   "source": [
    "# Fill missing value with the mean value of the variable\n",
    "data['API']=data['API'].fillna(round(data['API'].mean()))"
   ]
  },
  {
   "cell_type": "code",
   "execution_count": 434,
   "metadata": {},
   "outputs": [],
   "source": [
    "# Fill missing value with the mode value of the variable\n",
    "data['Nbwashrooms']=data['Nbwashrooms'].fillna(data['Nbwashrooms'].mode()[0])"
   ]
  },
  {
   "cell_type": "code",
   "execution_count": 435,
   "metadata": {},
   "outputs": [],
   "source": [
    "# Fill missing value with the mean value of the variable\n",
    "data['Lawn(Area)']=data['Lawn(Area)'].fillna(round(data['Lawn(Area)'].mean()))"
   ]
  },
  {
   "cell_type": "code",
   "execution_count": 436,
   "metadata": {},
   "outputs": [],
   "source": [
    "# Fill missing value with the mode value of the variable\n",
    "data['Troom']=data['Troom'].fillna(data['Troom'].mode()[0])"
   ]
  },
  {
   "cell_type": "code",
   "execution_count": 437,
   "metadata": {},
   "outputs": [],
   "source": [
    "# Fill the missing value of Nbedrooms with the number of bedrooms attached with washrooms\n",
    "data['Nbedrooms'][data['Nbedrooms'].isnull()==True]=data['Nbwashrooms'][data['Nbedrooms'].isnull()==True]"
   ]
  },
  {
   "cell_type": "markdown",
   "metadata": {},
   "source": [
    "We fill in the missing values in the Nbedrooms variable using the respective Nbwashrooms values as they make a better estimate of the minimum number of bedrooms available in the house."
   ]
  },
  {
   "cell_type": "code",
   "execution_count": 438,
   "metadata": {
    "scrolled": true
   },
   "outputs": [
    {
     "data": {
      "text/plain": [
       "<matplotlib.axes._subplots.AxesSubplot at 0x190089460b8>"
      ]
     },
     "execution_count": 438,
     "metadata": {},
     "output_type": "execute_result"
    },
    {
     "data": {
      "image/png": "[encoded data removed]",
      "text/plain": [
       "<Figure size 864x288 with 1 Axes>"
      ]
     },
     "metadata": {
      "needs_background": "light"
     },
     "output_type": "display_data"
    }
   ],
   "source": [
    "# Visualizing the Grades of houses with roofs\n",
    "\n",
    "plt.figure(3,figsize=(12,4))\n",
    "sns.barplot(x=data['Grade'][data['roof']=='YES'].value_counts().index,y=data['Grade'][data['roof']=='YES'].value_counts())"
   ]
  },
  {
   "cell_type": "markdown",
   "metadata": {},
   "source": [
    "We find that houses with roofs are never assigned Grade E."
   ]
  },
  {
   "cell_type": "code",
   "execution_count": 439,
   "metadata": {},
   "outputs": [],
   "source": [
    "# Using the mean and std of the roof area variable to fill in the missing values\n",
    "mean=round(data['Roof(Area)'][data['Roof(Area)']>0].mean())\n",
    "std=round(np.std(data['Roof(Area)'][data['Roof(Area)']>0]))"
   ]
  },
  {
   "cell_type": "code",
   "execution_count": 440,
   "metadata": {},
   "outputs": [
    {
     "data": {
      "text/plain": [
       "(96, 14)"
      ]
     },
     "execution_count": 440,
     "metadata": {},
     "output_type": "execute_result"
    }
   ],
   "source": [
    "# Mean and Standard Deviation of roof Area variable\n",
    "mean,std"
   ]
  },
  {
   "cell_type": "code",
   "execution_count": 441,
   "metadata": {},
   "outputs": [],
   "source": [
    "# Getting the indices of those rows with missing roof value\n",
    "rows=data[data['roof'].isnull()==True].index.values"
   ]
  },
  {
   "cell_type": "code",
   "execution_count": 442,
   "metadata": {},
   "outputs": [],
   "source": [
    "# Filling the missing values of roof variable with randomly selected values\n",
    "data['roof'][data['roof'].isnull()==True]=data['roof'][data['roof'].isnull()==True].apply(lambda x: random.choice(['NO','YES']))"
   ]
  },
  {
   "cell_type": "code",
   "execution_count": 443,
   "metadata": {},
   "outputs": [],
   "source": [
    "# Getting the indices of those missing values that got fille with 'YES'\n",
    "\n",
    "v=[]\n",
    "for i in rows:\n",
    "    if (data['roof'].iloc[i]=='YES'):\n",
    "        v.append(i)"
   ]
  },
  {
   "cell_type": "code",
   "execution_count": 444,
   "metadata": {},
   "outputs": [],
   "source": [
    "# For those filled with 'YES', fill the missing values of roof area with random values within one Std Dev from the mean\n",
    "data['Roof(Area)'].iloc[v]=data['Roof(Area)'].iloc[v].apply(lambda x: random.randint(mean-std,mean+std))"
   ]
  },
  {
   "cell_type": "code",
   "execution_count": 445,
   "metadata": {},
   "outputs": [],
   "source": [
    "# Filling the remaining missing values with 0\n",
    "data['Roof(Area)']=data['Roof(Area)'].fillna(0)"
   ]
  },
  {
   "cell_type": "code",
   "execution_count": 446,
   "metadata": {
    "scrolled": false
   },
   "outputs": [
    {
     "data": {
      "text/plain": [
       "<matplotlib.axes._subplots.AxesSubplot at 0x190096d93c8>"
      ]
     },
     "execution_count": 446,
     "metadata": {},
     "output_type": "execute_result"
    },
    {
     "data": {
      "image/png": "[encoded data removed]",
      "text/plain": [
       "<Figure size 432x288 with 1 Axes>"
      ]
     },
     "metadata": {
      "needs_background": "light"
     },
     "output_type": "display_data"
    }
   ],
   "source": [
    "# Distribution of the roof area variable after missing value treatment\n",
    "sns.distplot(data['Roof(Area)'][data['Roof(Area)']>0])"
   ]
  },
  {
   "cell_type": "markdown",
   "metadata": {},
   "source": [
    "We fill in the missing values of roof variable using randomly selected values. Once filled, the roof(Area) variable corresponding to 'YES' is filled with random values with one std dev of the mean of the variable. roof(Area) corresponding to 'NO' is filled with 0. This maintains the normal distribution of the variable."
   ]
  },
  {
   "cell_type": "code",
   "execution_count": 447,
   "metadata": {},
   "outputs": [
    {
     "data": {
      "text/plain": [
       "A    94\n",
       "Name: Grade, dtype: int64"
      ]
     },
     "execution_count": 447,
     "metadata": {},
     "output_type": "execute_result"
    }
   ],
   "source": [
    "#Houses with only Grade A avaiable beyond 5200$\n",
    "data['Grade'][data['EXPECTED']>5200].value_counts()"
   ]
  },
  {
   "cell_type": "code",
   "execution_count": 448,
   "metadata": {
    "scrolled": true
   },
   "outputs": [
    {
     "data": {
      "text/plain": [
       "D    995\n",
       "C    118\n",
       "E     26\n",
       "Name: Grade, dtype: int64"
      ]
     },
     "execution_count": 448,
     "metadata": {},
     "output_type": "execute_result"
    }
   ],
   "source": [
    "# Houses with Grade A and B not available below 3550$\n",
    "data['Grade'][data['EXPECTED']<3550].value_counts()"
   ]
  },
  {
   "cell_type": "markdown",
   "metadata": {},
   "source": [
    "As an insight, houses with expected price above USD5200 are only assigned grade A. Similarly, houses below the expected price of USD3550 are never assigned the grades A and B."
   ]
  },
  {
   "cell_type": "code",
   "execution_count": 449,
   "metadata": {},
   "outputs": [],
   "source": [
    "# Mapping catergorical values to numerical values\n",
    "data['roof']=data['roof'].map({'NO':0,'YES':1})"
   ]
  },
  {
   "cell_type": "code",
   "execution_count": 450,
   "metadata": {},
   "outputs": [],
   "source": [
    "# Seperating the target and the predictor variables\n",
    "Y=data['Grade'].iloc[0:len(train)]\n",
    "data=data.drop(['Grade','id'],axis=1)"
   ]
  },
  {
   "cell_type": "code",
   "execution_count": 451,
   "metadata": {},
   "outputs": [
    {
     "data": {
      "text/html": [
       "<div>\n",
       "<style scoped>\n",
       "    .dataframe tbody tr th:only-of-type {\n",
       "        vertical-align: middle;\n",
       "    }\n",
       "\n",
       "    .dataframe tbody tr th {\n",
       "        vertical-align: top;\n",
       "    }\n",
       "\n",
       "    .dataframe thead th {\n",
       "        text-align: right;\n",
       "    }\n",
       "</style>\n",
       "<table border=\"1\" class=\"dataframe\">\n",
       "  <thead>\n",
       "    <tr style=\"text-align: right;\">\n",
       "      <th></th>\n",
       "      <th>ANB</th>\n",
       "      <th>API</th>\n",
       "      <th>Area(total)</th>\n",
       "      <th>EXPECTED</th>\n",
       "      <th>Lawn(Area)</th>\n",
       "      <th>Nbedrooms</th>\n",
       "      <th>Nbwashrooms</th>\n",
       "      <th>Nfloors</th>\n",
       "      <th>Roof(Area)</th>\n",
       "      <th>Troom</th>\n",
       "      <th>Twashrooms</th>\n",
       "      <th>roof</th>\n",
       "    </tr>\n",
       "  </thead>\n",
       "  <tbody>\n",
       "    <tr>\n",
       "      <th>0</th>\n",
       "      <td>4</td>\n",
       "      <td>63.0</td>\n",
       "      <td>305</td>\n",
       "      <td>3826</td>\n",
       "      <td>76.0</td>\n",
       "      <td>2.0</td>\n",
       "      <td>1.0</td>\n",
       "      <td>2</td>\n",
       "      <td>0.0</td>\n",
       "      <td>8.0</td>\n",
       "      <td>3.0</td>\n",
       "      <td>0</td>\n",
       "    </tr>\n",
       "    <tr>\n",
       "      <th>1</th>\n",
       "      <td>1</td>\n",
       "      <td>97.0</td>\n",
       "      <td>344</td>\n",
       "      <td>4458</td>\n",
       "      <td>83.0</td>\n",
       "      <td>7.0</td>\n",
       "      <td>7.0</td>\n",
       "      <td>7</td>\n",
       "      <td>0.0</td>\n",
       "      <td>6.0</td>\n",
       "      <td>8.0</td>\n",
       "      <td>0</td>\n",
       "    </tr>\n",
       "    <tr>\n",
       "      <th>2</th>\n",
       "      <td>4</td>\n",
       "      <td>88.0</td>\n",
       "      <td>294</td>\n",
       "      <td>4199</td>\n",
       "      <td>78.0</td>\n",
       "      <td>4.0</td>\n",
       "      <td>3.0</td>\n",
       "      <td>1</td>\n",
       "      <td>97.0</td>\n",
       "      <td>8.0</td>\n",
       "      <td>4.0</td>\n",
       "      <td>1</td>\n",
       "    </tr>\n",
       "    <tr>\n",
       "      <th>3</th>\n",
       "      <td>1</td>\n",
       "      <td>86.0</td>\n",
       "      <td>328</td>\n",
       "      <td>3462</td>\n",
       "      <td>91.0</td>\n",
       "      <td>4.0</td>\n",
       "      <td>2.0</td>\n",
       "      <td>5</td>\n",
       "      <td>0.0</td>\n",
       "      <td>5.0</td>\n",
       "      <td>4.0</td>\n",
       "      <td>0</td>\n",
       "    </tr>\n",
       "    <tr>\n",
       "      <th>4</th>\n",
       "      <td>3</td>\n",
       "      <td>93.0</td>\n",
       "      <td>295</td>\n",
       "      <td>4543</td>\n",
       "      <td>97.0</td>\n",
       "      <td>5.0</td>\n",
       "      <td>3.0</td>\n",
       "      <td>4</td>\n",
       "      <td>0.0</td>\n",
       "      <td>9.0</td>\n",
       "      <td>5.0</td>\n",
       "      <td>0</td>\n",
       "    </tr>\n",
       "  </tbody>\n",
       "</table>\n",
       "</div>"
      ],
      "text/plain": [
       "   ANB   API  Area(total)  EXPECTED  Lawn(Area)  Nbedrooms  Nbwashrooms  \\\n",
       "0    4  63.0          305      3826        76.0        2.0          1.0   \n",
       "1    1  97.0          344      4458        83.0        7.0          7.0   \n",
       "2    4  88.0          294      4199        78.0        4.0          3.0   \n",
       "3    1  86.0          328      3462        91.0        4.0          2.0   \n",
       "4    3  93.0          295      4543        97.0        5.0          3.0   \n",
       "\n",
       "   Nfloors  Roof(Area)  Troom  Twashrooms  roof  \n",
       "0        2         0.0    8.0         3.0     0  \n",
       "1        7         0.0    6.0         8.0     0  \n",
       "2        1        97.0    8.0         4.0     1  \n",
       "3        5         0.0    5.0         4.0     0  \n",
       "4        4         0.0    9.0         5.0     0  "
      ]
     },
     "execution_count": 451,
     "metadata": {},
     "output_type": "execute_result"
    }
   ],
   "source": [
    "data.head()"
   ]
  },
  {
   "cell_type": "code",
   "execution_count": 452,
   "metadata": {},
   "outputs": [],
   "source": [
    "# Standardizing the variables using mean, max and min\n",
    "data=(data-data.mean())/(data.max()-data.min())"
   ]
  },
  {
   "cell_type": "code",
   "execution_count": 453,
   "metadata": {},
   "outputs": [
    {
     "data": {
      "text/html": [
       "<div>\n",
       "<style scoped>\n",
       "    .dataframe tbody tr th:only-of-type {\n",
       "        vertical-align: middle;\n",
       "    }\n",
       "\n",
       "    .dataframe tbody tr th {\n",
       "        vertical-align: top;\n",
       "    }\n",
       "\n",
       "    .dataframe thead th {\n",
       "        text-align: right;\n",
       "    }\n",
       "</style>\n",
       "<table border=\"1\" class=\"dataframe\">\n",
       "  <thead>\n",
       "    <tr style=\"text-align: right;\">\n",
       "      <th></th>\n",
       "      <th>ANB</th>\n",
       "      <th>API</th>\n",
       "      <th>Area(total)</th>\n",
       "      <th>EXPECTED</th>\n",
       "      <th>Lawn(Area)</th>\n",
       "      <th>Nbedrooms</th>\n",
       "      <th>Nbwashrooms</th>\n",
       "      <th>Nfloors</th>\n",
       "      <th>Roof(Area)</th>\n",
       "      <th>Troom</th>\n",
       "      <th>Twashrooms</th>\n",
       "      <th>roof</th>\n",
       "    </tr>\n",
       "  </thead>\n",
       "  <tbody>\n",
       "    <tr>\n",
       "      <th>0</th>\n",
       "      <td>0.101136</td>\n",
       "      <td>-0.400726</td>\n",
       "      <td>-0.285756</td>\n",
       "      <td>-0.067024</td>\n",
       "      <td>-0.350328</td>\n",
       "      <td>-0.499158</td>\n",
       "      <td>-0.500825</td>\n",
       "      <td>-0.358384</td>\n",
       "      <td>-0.396784</td>\n",
       "      <td>0.249223</td>\n",
       "      <td>-0.500262</td>\n",
       "      <td>-0.497815</td>\n",
       "    </tr>\n",
       "    <tr>\n",
       "      <th>1</th>\n",
       "      <td>-0.498864</td>\n",
       "      <td>0.449274</td>\n",
       "      <td>0.271387</td>\n",
       "      <td>0.137573</td>\n",
       "      <td>-0.175328</td>\n",
       "      <td>0.334175</td>\n",
       "      <td>0.499175</td>\n",
       "      <td>0.355901</td>\n",
       "      <td>-0.396784</td>\n",
       "      <td>-0.250777</td>\n",
       "      <td>0.499738</td>\n",
       "      <td>-0.497815</td>\n",
       "    </tr>\n",
       "    <tr>\n",
       "      <th>2</th>\n",
       "      <td>0.101136</td>\n",
       "      <td>0.224274</td>\n",
       "      <td>-0.442899</td>\n",
       "      <td>0.053727</td>\n",
       "      <td>-0.300328</td>\n",
       "      <td>-0.165825</td>\n",
       "      <td>-0.167492</td>\n",
       "      <td>-0.501241</td>\n",
       "      <td>0.411550</td>\n",
       "      <td>0.249223</td>\n",
       "      <td>-0.300262</td>\n",
       "      <td>0.502185</td>\n",
       "    </tr>\n",
       "    <tr>\n",
       "      <th>3</th>\n",
       "      <td>-0.498864</td>\n",
       "      <td>0.174274</td>\n",
       "      <td>0.042816</td>\n",
       "      <td>-0.184861</td>\n",
       "      <td>0.024672</td>\n",
       "      <td>-0.165825</td>\n",
       "      <td>-0.334159</td>\n",
       "      <td>0.070187</td>\n",
       "      <td>-0.396784</td>\n",
       "      <td>-0.500777</td>\n",
       "      <td>-0.300262</td>\n",
       "      <td>-0.497815</td>\n",
       "    </tr>\n",
       "    <tr>\n",
       "      <th>4</th>\n",
       "      <td>-0.098864</td>\n",
       "      <td>0.349274</td>\n",
       "      <td>-0.428613</td>\n",
       "      <td>0.165090</td>\n",
       "      <td>0.174672</td>\n",
       "      <td>0.000842</td>\n",
       "      <td>-0.167492</td>\n",
       "      <td>-0.072670</td>\n",
       "      <td>-0.396784</td>\n",
       "      <td>0.499223</td>\n",
       "      <td>-0.100262</td>\n",
       "      <td>-0.497815</td>\n",
       "    </tr>\n",
       "  </tbody>\n",
       "</table>\n",
       "</div>"
      ],
      "text/plain": [
       "        ANB       API  Area(total)  EXPECTED  Lawn(Area)  Nbedrooms  \\\n",
       "0  0.101136 -0.400726    -0.285756 -0.067024   -0.350328  -0.499158   \n",
       "1 -0.498864  0.449274     0.271387  0.137573   -0.175328   0.334175   \n",
       "2  0.101136  0.224274    -0.442899  0.053727   -0.300328  -0.165825   \n",
       "3 -0.498864  0.174274     0.042816 -0.184861    0.024672  -0.165825   \n",
       "4 -0.098864  0.349274    -0.428613  0.165090    0.174672   0.000842   \n",
       "\n",
       "   Nbwashrooms   Nfloors  Roof(Area)     Troom  Twashrooms      roof  \n",
       "0    -0.500825 -0.358384   -0.396784  0.249223   -0.500262 -0.497815  \n",
       "1     0.499175  0.355901   -0.396784 -0.250777    0.499738 -0.497815  \n",
       "2    -0.167492 -0.501241    0.411550  0.249223   -0.300262  0.502185  \n",
       "3    -0.334159  0.070187   -0.396784 -0.500777   -0.300262 -0.497815  \n",
       "4    -0.167492 -0.072670   -0.396784  0.499223   -0.100262 -0.497815  "
      ]
     },
     "execution_count": 453,
     "metadata": {},
     "output_type": "execute_result"
    }
   ],
   "source": [
    "data.head()"
   ]
  },
  {
   "cell_type": "code",
   "execution_count": 454,
   "metadata": {},
   "outputs": [],
   "source": [
    "# Splitting train and test data\n",
    "TRAIN=data.iloc[0:len(train)]\n",
    "TEST=data.iloc[len(train):]"
   ]
  },
  {
   "cell_type": "code",
   "execution_count": 455,
   "metadata": {},
   "outputs": [
    {
     "data": {
      "text/plain": [
       "((7000, 12), (3299, 12))"
      ]
     },
     "execution_count": 455,
     "metadata": {},
     "output_type": "execute_result"
    }
   ],
   "source": [
    "TRAIN.shape,TEST.shape"
   ]
  },
  {
   "cell_type": "code",
   "execution_count": 456,
   "metadata": {},
   "outputs": [],
   "source": [
    "# One-hot encoding for the target variable to be used in Neural Network\n",
    "dummy=pd.get_dummies(Y)"
   ]
  },
  {
   "cell_type": "markdown",
   "metadata": {},
   "source": [
    "## MACHINE LEARNING MODELS"
   ]
  },
  {
   "cell_type": "code",
   "execution_count": 457,
   "metadata": {},
   "outputs": [],
   "source": [
    "# Loading all required libraries\n",
    "from sklearn.linear_model import LogisticRegression\n",
    "from sklearn.multiclass import OneVsRestClassifier\n",
    "from sklearn.model_selection import GridSearchCV,cross_val_score,KFold\n",
    "from sklearn.metrics import accuracy_score\n",
    "from sklearn.tree import DecisionTreeClassifier\n",
    "from sklearn.ensemble import RandomForestClassifier,GradientBoostingClassifier \n",
    "from xgboost import XGBClassifier\n",
    "from sklearn.svm import SVC\n",
    "from sklearn.neural_network import MLPClassifier\n",
    "from keras.models import Sequential\n",
    "from keras.layers import Dense\n",
    "from keras.wrappers.scikit_learn import KerasClassifier"
   ]
  },
  {
   "cell_type": "markdown",
   "metadata": {},
   "source": [
    "## LOGISTIC REGRESSION"
   ]
  },
  {
   "cell_type": "code",
   "execution_count": 68,
   "metadata": {},
   "outputs": [
    {
     "data": {
      "text/plain": [
       "GridSearchCV(cv=5, error_score='raise-deprecating',\n",
       "       estimator=LogisticRegression(C=1.0, class_weight=None, dual=False, fit_intercept=True,\n",
       "          intercept_scaling=1, max_iter=100, multi_class='multinomial',\n",
       "          n_jobs=None, penalty='l2', random_state=1, solver='warn',\n",
       "          tol=0.0001, verbose=0, warm_start=False),\n",
       "       fit_params=None, iid='warn', n_jobs=-1,\n",
       "       param_grid={'solver': ['newton-cg', 'lbfgs', 'sag', 'saga'], 'max_iter': [100, 200, 300, 400, 500, 600, 700, 800, 900, 1000]},\n",
       "       pre_dispatch='2*n_jobs', refit=True, return_train_score='warn',\n",
       "       scoring=None, verbose=0)"
      ]
     },
     "execution_count": 68,
     "metadata": {},
     "output_type": "execute_result"
    }
   ],
   "source": [
    "# Running logistic regression using kfold validation for best estimator\n",
    "kfold = KFold(n_splits=5, shuffle=True)\n",
    "model=LogisticRegression(random_state=1,multi_class='multinomial')\n",
    "solvers=['newton-cg', 'lbfgs', 'sag', 'saga']\n",
    "max_iters=list(np.arange(100,1100,100))\n",
    "\n",
    "params_lr=dict(solver=solvers,max_iter=max_iters)\n",
    "grid_lr=GridSearchCV(model,params_lr,n_jobs=-1,cv=kfold)\n",
    "grid_lr.fit(TRAIN,Y)"
   ]
  },
  {
   "cell_type": "code",
   "execution_count": 71,
   "metadata": {},
   "outputs": [
    {
     "data": {
      "text/plain": [
       "0.8755714285714286"
      ]
     },
     "execution_count": 71,
     "metadata": {},
     "output_type": "execute_result"
    }
   ],
   "source": [
    "grid_lr.best_score_"
   ]
  },
  {
   "cell_type": "markdown",
   "metadata": {},
   "source": [
    "## DECISION TREE CLASSIFIER"
   ]
  },
  {
   "cell_type": "code",
   "execution_count": 78,
   "metadata": {},
   "outputs": [
    {
     "data": {
      "text/plain": [
       "GridSearchCV(cv=KFold(n_splits=5, random_state=None, shuffle=True),\n",
       "       error_score='raise-deprecating',\n",
       "       estimator=DecisionTreeClassifier(class_weight=None, criterion='gini', max_depth=None,\n",
       "            max_features=None, max_leaf_nodes=None,\n",
       "            min_impurity_decrease=0.0, min_impurity_split=None,\n",
       "            min_samples_leaf=1, min_samples_split=2,\n",
       "            min_weight_fraction_leaf=0.0, presort=False, random_state=1,\n",
       "            splitter='best'),\n",
       "       fit_params=None, iid='warn', n_jobs=-1,\n",
       "       param_grid={'max_depth': [1, 2, 3, 4, 5, 6, 7, 8, 9, 10, 11, 12, 13, 14, 15, 16, 17, 18, 19], 'min_samples_split': [6, 7, 8, 9, 10, 11, 12, 13, 14], 'min_samples_leaf': [4, 5, 6, 7, 8, 9, 10, 11, 12, 13, 14], 'criterion': ['gini', 'entropy']},\n",
       "       pre_dispatch='2*n_jobs', refit=True, return_train_score='warn',\n",
       "       scoring=None, verbose=0)"
      ]
     },
     "execution_count": 78,
     "metadata": {},
     "output_type": "execute_result"
    }
   ],
   "source": [
    "# Running Decision Tree using kfold validation for best estimator\n",
    "kfold = KFold(n_splits=5, shuffle=True)\n",
    "dt=DecisionTreeClassifier(random_state=1)\n",
    "\n",
    "paramsdt = {'max_depth': list(range(1, 20, 1)),'min_samples_split': [n for n in range(6, 15)], \n",
    "    'min_samples_leaf' : [n for n in range(4, 15)],'criterion':['gini','entropy']}\n",
    "\n",
    "grid_dt=GridSearchCV(dt,paramsdt,n_jobs=-1,cv=kfold)\n",
    "grid_dt.fit(TRAIN,Y)"
   ]
  },
  {
   "cell_type": "code",
   "execution_count": 79,
   "metadata": {},
   "outputs": [
    {
     "data": {
      "text/plain": [
       "0.8142857142857143"
      ]
     },
     "execution_count": 79,
     "metadata": {},
     "output_type": "execute_result"
    }
   ],
   "source": [
    "grid_dt.best_score_"
   ]
  },
  {
   "cell_type": "markdown",
   "metadata": {},
   "source": [
    "## RANDOM FOREST CLASSIFIER"
   ]
  },
  {
   "cell_type": "code",
   "execution_count": 81,
   "metadata": {},
   "outputs": [
    {
     "data": {
      "text/plain": [
       "GridSearchCV(cv=KFold(n_splits=5, random_state=None, shuffle=True),\n",
       "       error_score='raise-deprecating',\n",
       "       estimator=RandomForestClassifier(bootstrap=True, class_weight=None, criterion='gini',\n",
       "            max_depth=None, max_features='auto', max_leaf_nodes=None,\n",
       "            min_impurity_decrease=0.0, min_impurity_split=None,\n",
       "            min_samples_leaf=1, min_samples_split=2,\n",
       "            min_weight_fraction_leaf=0.0, n_estimators='warn', n_jobs=None,\n",
       "            oob_score=False, random_state=1, verbose=0, warm_start=False),\n",
       "       fit_params=None, iid='warn', n_jobs=-1,\n",
       "       param_grid={'max_depth': [1, 2, 3, 4, 5, 6, 7, 8, 9, 10, 11, 12, 13, 14, 15, 16, 17, 18, 19], 'min_samples_split': [6, 7, 8, 9, 10, 11, 12, 13, 14], 'min_samples_leaf': [4, 5, 6, 7, 8, 9, 10, 11, 12, 13, 14], 'criterion': ['gini', 'entropy']},\n",
       "       pre_dispatch='2*n_jobs', refit=True, return_train_score='warn',\n",
       "       scoring=None, verbose=0)"
      ]
     },
     "execution_count": 81,
     "metadata": {},
     "output_type": "execute_result"
    }
   ],
   "source": [
    "# Running Random Forest using kfold validation for best estimator\n",
    "kfold = KFold(n_splits=5, shuffle=True)\n",
    "rf=RandomForestClassifier(random_state=1)\n",
    "\n",
    "paramsrf = {'max_depth': list(range(1, 20, 2)),'min_samples_split': [n for n in range(6, 15)], \n",
    "    'min_samples_leaf' : [n for n in range(4, 15)],\n",
    "    'n_estimators':[n for n in range(10, 100, 10)]}\n",
    "\n",
    "grid_rf=GridSearchCV(rf,paramsdt,n_jobs=-1,cv=kfold)\n",
    "grid_rf.fit(TRAIN,Y)"
   ]
  },
  {
   "cell_type": "code",
   "execution_count": 82,
   "metadata": {},
   "outputs": [
    {
     "data": {
      "text/plain": [
       "0.8585714285714285"
      ]
     },
     "execution_count": 82,
     "metadata": {},
     "output_type": "execute_result"
    }
   ],
   "source": [
    "grid_rf.best_score_"
   ]
  },
  {
   "cell_type": "markdown",
   "metadata": {},
   "source": [
    "## SUPPORT VECTOR MACHINE"
   ]
  },
  {
   "cell_type": "code",
   "execution_count": 532,
   "metadata": {},
   "outputs": [],
   "source": [
    "# Running SVM using kfold validation for best estimator\n",
    "kfold = KFold(n_splits=5, shuffle=True)\n",
    "sv=SVC(random_state=1)\n",
    "\n",
    "result=cross_val_score(sv, TRAIN, Y, cv=kfold,n_jobs=-1)"
   ]
  },
  {
   "cell_type": "code",
   "execution_count": 534,
   "metadata": {},
   "outputs": [
    {
     "data": {
      "text/plain": [
       "0.8964285714285716"
      ]
     },
     "execution_count": 534,
     "metadata": {},
     "output_type": "execute_result"
    }
   ],
   "source": [
    "result.mean()"
   ]
  },
  {
   "cell_type": "markdown",
   "metadata": {},
   "source": [
    "## GRADIENT BOOSTING CLASSIFIER"
   ]
  },
  {
   "cell_type": "code",
   "execution_count": 528,
   "metadata": {},
   "outputs": [],
   "source": [
    "# Running Gradient Boosting using kfold validation for best estimator\n",
    "kfold = KFold(n_splits=5, shuffle=True)\n",
    "gb=GradientBoostingClassifier(n_estimators=200, max_depth=6, random_state=1)\n",
    "\n",
    "# paramsgb = {'max_depth': list(range(1, 20, 2)),'min_samples_split': [n for n in range(6, 15)], \n",
    "#     'min_samples_leaf' : [n for n in range(4, 15)],\n",
    "#     'n_estimators':[n for n in range(10, 100, 10)],'loss':['deviance','exponential']}\n",
    "\n",
    "result=cross_val_score(gb, TRAIN, Y, cv=kfold,n_jobs=-1)"
   ]
  },
  {
   "cell_type": "code",
   "execution_count": 529,
   "metadata": {},
   "outputs": [
    {
     "data": {
      "text/plain": [
       "0.886857142857143"
      ]
     },
     "execution_count": 529,
     "metadata": {},
     "output_type": "execute_result"
    }
   ],
   "source": [
    "result.mean()"
   ]
  },
  {
   "cell_type": "markdown",
   "metadata": {},
   "source": [
    "## XTREME GRADIENT BOOSTING CLASSIFIER"
   ]
  },
  {
   "cell_type": "code",
   "execution_count": 530,
   "metadata": {},
   "outputs": [],
   "source": [
    "# Running XG Boost using kfold validation for best estimator\n",
    "kfold = KFold(n_splits=5, shuffle=True)\n",
    "xgb=XGBClassifier(n_estimators=200, max_depth=6,random_state=1)\n",
    "\n",
    "# paramsxgb = {'max_depth': list(range(1, 20, 2)),'min_samples_split': [n for n in range(6, 15)], \n",
    "#     'min_samples_leaf' : [n for n in range(4, 15)],\n",
    "#     'n_estimators':[n for n in range(10, 100, 10)],'loss':['deviance','exponential']}\n",
    "\n",
    "result=cross_val_score(xgb, TRAIN, Y, cv=kfold,n_jobs=-1)"
   ]
  },
  {
   "cell_type": "code",
   "execution_count": 531,
   "metadata": {},
   "outputs": [
    {
     "data": {
      "text/plain": [
       "0.8945714285714285"
      ]
     },
     "execution_count": 531,
     "metadata": {},
     "output_type": "execute_result"
    }
   ],
   "source": [
    "result.mean()"
   ]
  },
  {
   "cell_type": "markdown",
   "metadata": {},
   "source": [
    "## NEURAL NETWORKS"
   ]
  },
  {
   "cell_type": "markdown",
   "metadata": {},
   "source": [
    "### MLP CLASSIFIER"
   ]
  },
  {
   "cell_type": "code",
   "execution_count": 518,
   "metadata": {},
   "outputs": [],
   "source": [
    "# # Running Neural Network by MLP Classifier using kfold validation\n",
    "\n",
    "kfold=KFold(n_splits=3,random_state=1,shuffle=True)\n",
    "model=MLPClassifier(random_state=1,solver='lbfgs',hidden_layer_sizes=(12,12,12),activation='tanh', alpha=1,max_iter=500,\n",
    "                   batch_size=20)\n",
    "\n",
    "result=cross_val_score(model, TRAIN, dummy,n_jobs=-1, cv=kfold)"
   ]
  },
  {
   "cell_type": "code",
   "execution_count": 519,
   "metadata": {
    "scrolled": true
   },
   "outputs": [
    {
     "data": {
      "text/plain": [
       "0.935857466723426"
      ]
     },
     "execution_count": 519,
     "metadata": {},
     "output_type": "execute_result"
    }
   ],
   "source": [
    "result.mean()"
   ]
  },
  {
   "cell_type": "code",
   "execution_count": 366,
   "metadata": {},
   "outputs": [],
   "source": [
    "# Fitting the model and predicting the values for the test dataset\n",
    "\n",
    "model.fit(TRAIN, dummy)\n",
    "pred=model.predict(TEST)"
   ]
  },
  {
   "cell_type": "code",
   "execution_count": 388,
   "metadata": {},
   "outputs": [],
   "source": [
    "# Reverse Encoding of dummy variables\n",
    "grade=pd.DataFrame(pred,columns=[\"A\",\"B\",'C','D','E'])"
   ]
  },
  {
   "cell_type": "code",
   "execution_count": 396,
   "metadata": {},
   "outputs": [],
   "source": [
    "# Revere Encoding of dummy variables\n",
    "pred_grades = grade.idxmax(axis=1)"
   ]
  },
  {
   "cell_type": "code",
   "execution_count": 399,
   "metadata": {},
   "outputs": [],
   "source": [
    "# Creating csv output file\n",
    "submission=pd.DataFrame({'id':test['id'],'Grade':pred_grades})\n",
    "submission.to_csv(\"C:/users/ashwin/Desktop/sub.csv\",index=False)"
   ]
  },
  {
   "cell_type": "code",
   "execution_count": 479,
   "metadata": {},
   "outputs": [
    {
     "data": {
      "text/plain": [
       "GridSearchCV(cv=KFold(n_splits=3, random_state=1, shuffle=True),\n",
       "       error_score='raise-deprecating',\n",
       "       estimator=MLPClassifier(activation='relu', alpha=0.0001, batch_size='auto', beta_1=0.9,\n",
       "       beta_2=0.999, early_stopping=False, epsilon=1e-08,\n",
       "       hidden_layer_sizes=(100,), learning_rate='constant',\n",
       "       learning_rate_init=0.001, max_iter=200, momentum=0.9,\n",
       "       n_iter_no_change=10, nesterovs_momentum=True, power_t=0.5,\n",
       "       random_state=1, shuffle=True, solver='lbfgs', tol=0.0001,\n",
       "       validation_fraction=0.1, verbose=False, warm_start=False),\n",
       "       fit_params=None, iid='warn', n_jobs=-1,\n",
       "       param_grid={'hidden_layer_sizes': [(8, 8), (10, 10), (12, 12), (13, 13), (14, 14), (10, 10, 10), (12, 12, 12), (15, 15, 15), (20, 20, 20)], 'alpha': [1e-05, 0.001, 0.1, 10.0, 1000.0], 'activation': ['logistic', 'relu', 'tanh'], 'max_iter': [100, 200, 300, 400, 500, 600, 700, 800, 900, 1000, 1100, 1200, 1300, 1400, 1500, 1600, 1700, 1800, 1900, 2000]},\n",
       "       pre_dispatch='2*n_jobs', refit=True, return_train_score='warn',\n",
       "       scoring=None, verbose=0)"
      ]
     },
     "execution_count": 479,
     "metadata": {},
     "output_type": "execute_result"
    }
   ],
   "source": [
    "# Running Neural Network by MLP Classifier using kfold validation for best estimator\n",
    "kfold=KFold(n_splits=3,random_state=1,shuffle=True)\n",
    "model=MLPClassifier(solver='lbfgs',random_state=1)\n",
    "\n",
    "params_nn={'hidden_layer_sizes': [(8,8),(10,10),(12,12),(13,13),(14,14),(10,10,10),(12,12,12),(15,15,15),(20,20,20)],\n",
    "           'alpha': list(np.logspace(-5, 3, 5)),'activation': [\"logistic\", \"relu\", \"tanh\"],\n",
    "           'max_iter':list(np.arange(100,2100,100))}\n",
    "\n",
    "grid_nn=GridSearchCV(model,params_nn,n_jobs=-1,cv=kfold)\n",
    "grid_nn.fit(TRAIN,dummy)"
   ]
  },
  {
   "cell_type": "code",
   "execution_count": 480,
   "metadata": {},
   "outputs": [
    {
     "data": {
      "text/plain": [
       "0.9367142857142857"
      ]
     },
     "execution_count": 480,
     "metadata": {},
     "output_type": "execute_result"
    }
   ],
   "source": [
    "grid_nn.best_score_"
   ]
  },
  {
   "cell_type": "code",
   "execution_count": 481,
   "metadata": {},
   "outputs": [
    {
     "data": {
      "text/plain": [
       "{'activation': 'tanh',\n",
       " 'alpha': 10.0,\n",
       " 'hidden_layer_sizes': (20, 20, 20),\n",
       " 'max_iter': 1400}"
      ]
     },
     "execution_count": 481,
     "metadata": {},
     "output_type": "execute_result"
    }
   ],
   "source": [
    "grid_nn.best_params_"
   ]
  },
  {
   "cell_type": "code",
   "execution_count": 482,
   "metadata": {},
   "outputs": [],
   "source": [
    "# Using the parameters from GridSearch and creating the model\n",
    "kfold=KFold(n_splits=3,random_state=1,shuffle=True)\n",
    "model=MLPClassifier(solver='lbfgs',activation= 'tanh',alpha= 10,hidden_layer_sizes= (20, 20, 20),max_iter= 1400)\n",
    "\n",
    "result=cross_val_score(model, TRAIN, dummy, cv=kfold)"
   ]
  },
  {
   "cell_type": "code",
   "execution_count": 483,
   "metadata": {},
   "outputs": [
    {
     "data": {
      "text/plain": [
       "0.935428834061617"
      ]
     },
     "execution_count": 483,
     "metadata": {},
     "output_type": "execute_result"
    }
   ],
   "source": [
    "result.mean()"
   ]
  },
  {
   "cell_type": "code",
   "execution_count": 484,
   "metadata": {},
   "outputs": [],
   "source": [
    "# Fitting the model and predicting the values for the test dataset\n",
    "\n",
    "model.fit(TRAIN, dummy)\n",
    "pred=model.predict(TEST)"
   ]
  },
  {
   "cell_type": "code",
   "execution_count": 485,
   "metadata": {},
   "outputs": [],
   "source": [
    "# Reverse Encoding of dummy variables\n",
    "grade=pd.DataFrame(pred,columns=[\"A\",\"B\",'C','D','E'])"
   ]
  },
  {
   "cell_type": "code",
   "execution_count": 486,
   "metadata": {},
   "outputs": [],
   "source": [
    "# Reverse Encoding of dummy variables\n",
    "pred_grades = grade.idxmax(axis=1)"
   ]
  },
  {
   "cell_type": "code",
   "execution_count": 489,
   "metadata": {},
   "outputs": [],
   "source": [
    "# Creating csv output file\n",
    "# submission=pd.DataFrame({'id':test['id'],'Grade':pred_grades})\n",
    "# submission.to_csv(\"C:/users/ashwin/Desktop/sub.csv\",index=False)"
   ]
  },
  {
   "cell_type": "markdown",
   "metadata": {},
   "source": [
    "### KERAS CLASSIFIER"
   ]
  },
  {
   "cell_type": "code",
   "execution_count": 520,
   "metadata": {},
   "outputs": [],
   "source": [
    "# Running Neural Network by Keras Classifier using kfold validation for best estimator\n",
    "kfold = KFold(n_splits=3, shuffle=True)\n",
    "def baseline_model():\n",
    "    model = Sequential()\n",
    "    model.add(Dense(8, input_dim=12, activation='tanh'))\n",
    "    model.add(Dense(10, activation='tanh'))\n",
    "    model.add(Dense(5, activation='sigmoid'))\n",
    "    model.compile(loss='categorical_crossentropy', optimizer='SGD', metrics=['accuracy'])\n",
    "    return model\n",
    "estimator=KerasClassifier(build_fn=baseline_model, epochs=200,verbose=0)\n",
    "result=cross_val_score(estimator, TRAIN, dummy, cv=kfold,n_jobs=-1)\n",
    "# batch_size = [10, 20, 40, 60, 80, 100]\n",
    "# epochs = [10, 50, 100]\n",
    "# optimizer = ['SGD', 'RMSprop', 'Adagrad', 'Adadelta', 'Adam', 'Adamax', 'Nadam']\n",
    "# learn_rate = [0.001, 0.01, 0.1, 0.2, 0.3]\n",
    "# activation = ['relu', 'tanh', 'sigmoid', 'hard_sigmoid']\n",
    "# neurons = [1, 5, 10, 15, 20]\n",
    "# paramsnn=dict(epochs=epochs,batch_size=batch_size,activation=activation, neurons=neurons,\n",
    "#               optimizer=optimizer,learn_rate=learn_rate)\n",
    "# grid_nn = GridSearchCV(estimator=estimator, param_grid=paramsnn, n_jobs=-1, cv=kfold)\n",
    "# grid_nn.fit(TRAIN,dummy)"
   ]
  },
  {
   "cell_type": "code",
   "execution_count": 521,
   "metadata": {
    "scrolled": false
   },
   "outputs": [
    {
     "data": {
      "text/plain": [
       "0.8109908699989319"
      ]
     },
     "execution_count": 521,
     "metadata": {},
     "output_type": "execute_result"
    }
   ],
   "source": [
    "result.mean()"
   ]
  },
  {
   "cell_type": "markdown",
   "metadata": {},
   "source": [
    "                                                    THE END"
   ]
  }
 ],
 "metadata": {
  "kernelspec": {
   "display_name": "Python 3",
   "language": "python",
   "name": "python3"
  },
  "language_info": {
   "codemirror_mode": {
    "name": "ipython",
    "version": 3
   },
   "file_extension": ".py",
   "mimetype": "text/x-python",
   "name": "python",
   "nbconvert_exporter": "python",
   "pygments_lexer": "ipython3",
   "version": "3.7.3"
  },
  "toc": {
   "base_numbering": 1,
   "nav_menu": {},
   "number_sections": false,
   "sideBar": true,
   "skip_h1_title": false,
   "title_cell": "Table of Contents",
   "title_sidebar": "Contents",
   "toc_cell": false,
   "toc_position": {
    "height": "calc(100% - 180px)",
    "left": "10px",
    "top": "150px",
    "width": "262.2px"
   },
   "toc_section_display": true,
   "toc_window_display": true
  },
  "varInspector": {
   "cols": {
    "lenName": 16,
    "lenType": 16,
    "lenVar": 40
   },
   "kernels_config": {
    "python": {
     "delete_cmd_postfix": "",
     "delete_cmd_prefix": "del ",
     "library": "var_list.py",
     "varRefreshCmd": "print(var_dic_list())"
    },
    "r": {
     "delete_cmd_postfix": ") ",
     "delete_cmd_prefix": "rm(",
     "library": "var_list.r",
     "varRefreshCmd": "cat(var_dic_list()) "
    }
   },
   "types_to_exclude": [
    "module",
    "function",
    "builtin_function_or_method",
    "instance",
    "_Feature"
   ],
   "window_display": false
  }
 },
 "nbformat": 4,
 "nbformat_minor": 2
}
